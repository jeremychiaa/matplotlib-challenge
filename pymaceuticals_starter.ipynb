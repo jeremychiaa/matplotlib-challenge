{
 "cells": [
  {
   "cell_type": "markdown",
   "metadata": {},
   "source": [
    "## Observations and Insights "
   ]
  },
  {
   "cell_type": "markdown",
   "metadata": {},
   "source": [
    "By analysing the tables and charts, a few distinct observations and inferences can be made from them:\n",
    "- Each drug regimen had similar number of mice going through the treatments.\n",
    "- The proportion of male and female mice that undergone the drug treatments were almost equally distributed. Hence, the results of this study are applicable to mice of both genders. \n",
    "- By observing the box plots, Capomulin and Ramicane had considerably lower median final tumour volume compared to Infubinol and Ceftamin. Therefore, Capomulin and Ramicane are two of the most effective drugs in reducing tumour sizes among all the drug regimens.\n",
    "- By observing the effect of Capomulin on one particular mouse, there is a strong negative relationship between timepoints and tumour volume. So, it can be said with confidence that Capomulin is effective in reducing the tumour size of this mouse.\n",
    "- For mice treated with Capomulin, there is a strong positive correlation between average weight and tumour volume. The heavier the mice, the larger their tumour sizes."
   ]
  },
  {
   "cell_type": "code",
   "execution_count": null,
   "metadata": {},
   "outputs": [],
   "source": [
    "%matplotlib inline"
   ]
  },
  {
   "cell_type": "code",
   "execution_count": null,
   "metadata": {},
   "outputs": [],
   "source": [
    "# Dependencies and Setup\n",
    "import matplotlib.pyplot as plt\n",
    "import pandas as pd\n",
    "import scipy.stats as st\n",
    "import numpy as np\n",
    "from scipy.stats import linregress\n",
    "\n",
    "# Study data files\n",
    "mouse_metadata_path = \"Resources/Mouse_metadata.csv\"\n",
    "study_results_path = \"Resources/Study_results.csv\"\n",
    "\n",
    "# Read the mouse data and the study results\n",
    "mouse_metadata = pd.read_csv(mouse_metadata_path)\n",
    "study_results = pd.read_csv(study_results_path)\n",
    "\n",
    "# Combine the data into a single dataset\n",
    "combined_data = pd.merge(mouse_metadata, study_results, on=\"Mouse ID\", how=\"outer\")\n",
    "\n",
    "# Display the data table for preview\n",
    "combined_data"
   ]
  },
  {
   "cell_type": "code",
   "execution_count": null,
   "metadata": {},
   "outputs": [],
   "source": [
    "# Checking the number of mice.\n",
    "total_mice = combined_data[\"Mouse ID\"].nunique()\n",
    "total_mice"
   ]
  },
  {
   "cell_type": "code",
   "execution_count": null,
   "metadata": {},
   "outputs": [],
   "source": [
    "# Getting the duplicate mice by ID number that shows up for Mouse ID and Timepoint. \n",
    "# Creating a groupby on Mouse ID and Timepoint\n",
    "grouped_mice = combined_data.groupby([\"Mouse ID\", \"Timepoint\"])\n",
    "\n",
    "# Count and sort the number of drug regimens each mice received\n",
    "mice_regimen = grouped_mice[\"Drug Regimen\"].count().sort_values()\n",
    "\n",
    "# Retrieve the duplicate mice that received more than one regimen\n",
    "mice_regimen.tail()"
   ]
  },
  {
   "cell_type": "code",
   "execution_count": null,
   "metadata": {},
   "outputs": [],
   "source": [
    "# Optional: Get all the data for the duplicate mouse ID. \n",
    "duplicate_mice = combined_data.loc[combined_data[\"Mouse ID\"] == \"g989\"]\n",
    "duplicate_mice"
   ]
  },
  {
   "cell_type": "code",
   "execution_count": null,
   "metadata": {},
   "outputs": [],
   "source": [
    "# Create a clean DataFrame by dropping the duplicate mouse by its ID.\n",
    "combined_data = combined_data.drop(combined_data[combined_data[\"Mouse ID\"] == \"g989\"].index.values)\n",
    "combined_data"
   ]
  },
  {
   "cell_type": "code",
   "execution_count": null,
   "metadata": {},
   "outputs": [],
   "source": [
    "# Checking the number of mice in the clean DataFrame.\n",
    "cleaned_total_mice = combined_data[\"Mouse ID\"].nunique()\n",
    "cleaned_total_mice"
   ]
  },
  {
   "cell_type": "markdown",
   "metadata": {},
   "source": [
    "## Summary Statistics"
   ]
  },
  {
   "cell_type": "code",
   "execution_count": null,
   "metadata": {},
   "outputs": [],
   "source": [
    "# Generate a summary statistics table of mean, median, variance, standard deviation, and SEM of the tumor volume for each regimen\n",
    "# This method is the most straighforward, creating multiple series and putting them all together at the end.\n",
    "grouped_summary = combined_data.groupby([\"Drug Regimen\"])\n",
    "mean_summary = pd.Series(grouped_summary[\"Tumor Volume (mm3)\"].mean(), name = \"Mean\")\n",
    "median_summary = pd.Series(grouped_summary[\"Tumor Volume (mm3)\"].median(), name = \"Median\")\n",
    "variance_summary = pd.Series(grouped_summary[\"Tumor Volume (mm3)\"].var(), name = \"Variance\")\n",
    "stddev_summary = pd.Series(grouped_summary[\"Tumor Volume (mm3)\"].std(), name = \"Std Dev\")\n",
    "sem_summary = pd.Series(grouped_summary[\"Tumor Volume (mm3)\"].sem(), name = \"SEM\")\n",
    "\n",
    "# Concatenate all created series together\n",
    "summary_stats = pd.concat([mean_summary, median_summary, variance_summary, stddev_summary, sem_summary], axis=1)\n",
    "summary_stats"
   ]
  },
  {
   "cell_type": "code",
   "execution_count": null,
   "metadata": {},
   "outputs": [],
   "source": [
    "# Generate a summary statistics table of mean, median, variance, standard deviation, and SEM of the tumor volume for each regimen\n",
    "# This method produces everything in a single groupby function\n",
    "summary_stats_groupby = combined_data.groupby([\"Drug Regimen\"]).agg([\"mean\", \"median\", \"var\", \"std\", \"sem\"])\n",
    "summary_stats_groupby[\"Tumor Volume (mm3)\"]"
   ]
  },
  {
   "cell_type": "markdown",
   "metadata": {},
   "source": [
    "## Bar and Pie Charts"
   ]
  },
  {
   "cell_type": "code",
   "execution_count": null,
   "metadata": {},
   "outputs": [],
   "source": [
    "# Generate a bar plot showing the total number of mice for each treatment throughout the course of the study using pandas. \n",
    "# Split up our data into groups based upon 'drug regimen'\n",
    "grouped_drugs = combined_data.groupby([\"Drug Regimen\"])\n",
    "\n",
    "# Find out how many mice took each drug\n",
    "total_mice = grouped_drugs[\"Mouse ID\"].nunique()\n",
    "\n",
    "# Chart the data, providing it with a title and labels\n",
    "total_mice_chart_pd = total_mice.plot(kind=\"bar\", title=\"Total Number of Mice for each Drug Treatment\")\n",
    "total_mice_chart_pd.set_xlabel(\"Drug Regimen\")\n",
    "total_mice_chart_pd.set_ylabel(\"Number of Mice\")\n",
    "\n",
    "# Show the chart\n",
    "plt.tight_layout()\n",
    "plt.show()"
   ]
  },
  {
   "cell_type": "code",
   "execution_count": null,
   "metadata": {},
   "outputs": [],
   "source": [
    "# Generate a bar plot showing the total number of mice for each treatment throughout the course of the study using pyplot.\n",
    "# Assign total mice to new variable\n",
    "# mice_count = total_mice\n",
    "\n",
    "# Set mice count index to default index\n",
    "mice_count = total_mice.reset_index()\n",
    "\n",
    "# Assign axis values\n",
    "x_axis = mice_count[\"Drug Regimen\"]\n",
    "y_axis = mice_count[\"Mouse ID\"]\n",
    "\n",
    "# Plot bar chart\n",
    "plt.bar(x_axis, y_axis)\n",
    "plt.xticks(rotation=90)\n",
    "\n",
    "# Give chart title and labels\n",
    "plt.title(\"Total Number of Mice for each Drug Treatment\")\n",
    "plt.xlabel(\"Drug Regimen\")\n",
    "plt.ylabel(\"Number of Mice\")\n",
    "\n",
    "# Show the chart\n",
    "plt.tight_layout()\n",
    "plt.show()"
   ]
  },
  {
   "cell_type": "code",
   "execution_count": null,
   "metadata": {},
   "outputs": [],
   "source": [
    "# Generate a pie plot showing the distribution of female versus male mice using pandas\n",
    "# Group data by gender\n",
    "gender_grouped = combined_data.groupby([\"Sex\"])\n",
    "\n",
    "# Find gender distribution\n",
    "gender_distribution = gender_grouped[\"Mouse ID\"].nunique()\n",
    "print(gender_distribution)\n",
    "\n",
    "# Plot pie chart based on data\n",
    "mice_gender_chart_pd = gender_distribution.plot(kind=\"pie\", title=\"Gender Distribution of Mice\", autopct=\"%1.1f%%\", startangle=90)\n",
    "\n",
    "# Hide y label\n",
    "mice_gender_chart_pd.set_ylabel('')\n",
    "\n",
    "# Add legend\n",
    "mice_gender_chart_pd.legend(loc=\"best\")\n",
    "\n",
    "# Set equal axis\n",
    "mice_gender_chart_pd.set_aspect(\"equal\") \n",
    "\n",
    "# Show chart that was created\n",
    "plt.show()"
   ]
  },
  {
   "cell_type": "code",
   "execution_count": null,
   "metadata": {},
   "outputs": [],
   "source": [
    "# Generate a pie plot showing the distribution of female versus male mice using pyplot\n",
    "gender = [\"Female\", \"Male\"]\n",
    "\n",
    "# Using matplotlib.pyplot to create a pie chart based on above data\n",
    "plt.pie(gender_distribution, labels=gender, autopct=\"%1.1f%%\", startangle=90)\n",
    "\n",
    "# Create axes which are equal so we have a perfect circle\n",
    "plt.axis(\"equal\")\n",
    "\n",
    "# Add title\n",
    "plt.title(\"Gender Distribution of Mice\")\n",
    "\n",
    "# Add legend\n",
    "plt.legend(loc=\"best\")\n",
    "\n",
    "# Show chart that was created\n",
    "plt.show()"
   ]
  },
  {
   "cell_type": "markdown",
   "metadata": {},
   "source": [
    "## Quartiles, Outliers and Boxplots"
   ]
  },
  {
   "cell_type": "code",
   "execution_count": null,
   "metadata": {},
   "outputs": [],
   "source": [
    "# Calculate the final tumor volume of each mouse across four of the treatment regimens:  \n",
    "# Capomulin, Ramicane, Infubinol, and Ceftamin\n",
    "# Start by getting the last (greatest) timepoint for each mouse\n",
    "\n",
    "# Retrieve data of the four treatment regimens\n",
    "reduced_data = combined_data.loc[combined_data[\"Drug Regimen\"] == \"Capomulin\"]\n",
    "reduced_data = reduced_data.append(combined_data.loc[combined_data[\"Drug Regimen\"] == \"Ramicane\"])\n",
    "reduced_data = reduced_data.append(combined_data.loc[combined_data[\"Drug Regimen\"] == \"Infubinol\"])\n",
    "reduced_data = reduced_data.append(combined_data.loc[combined_data[\"Drug Regimen\"] == \"Ceftamin\"])\n",
    "\n",
    "# Group dataframe by Mouse ID\n",
    "grouped_reduced_data = reduced_data.groupby([\"Mouse ID\"])\n",
    "\n",
    "# Retrieve max tumour volume\n",
    "tumour_volume = grouped_reduced_data[\"Timepoint\"].max()\n",
    "\n",
    "# Reset index to default\n",
    "tumour_volume_df = tumour_volume.reset_index()\n",
    "\n",
    "# Merge this group df with the original dataframe to get the tumor volume at the last timepoint\n",
    "new_combined_data = pd.merge(tumour_volume_df, reduced_data, on=(\"Mouse ID\", \"Timepoint\"), how=\"left\")\n",
    "new_combined_data"
   ]
  },
  {
   "cell_type": "code",
   "execution_count": null,
   "metadata": {},
   "outputs": [],
   "source": [
    "# Locate the rows which contain mice on each drug and get the tumor volumes\n",
    "# Retrieve Capomulin, Ramicane, Infubinol, and Ceftamin data\n",
    "capomulin = new_combined_data.loc[new_combined_data[\"Drug Regimen\"] == \"Capomulin\"]\n",
    "ramicane = new_combined_data.loc[new_combined_data[\"Drug Regimen\"] == \"Ramicane\"]\n",
    "infubinol = new_combined_data.loc[new_combined_data[\"Drug Regimen\"] == \"Infubinol\"]\n",
    "ceftamin = new_combined_data.loc[new_combined_data[\"Drug Regimen\"] == \"Ceftamin\"]\n",
    "\n",
    "# Retrieve drug regimen and newly created column\n",
    "capomulin = capomulin[\"Tumor Volume (mm3)\"]\n",
    "ramicane = ramicane[\"Tumor Volume (mm3)\"]\n",
    "infubinol = infubinol[\"Tumor Volume (mm3)\"]\n",
    "ceftamin = ceftamin[\"Tumor Volume (mm3)\"]"
   ]
  },
  {
   "cell_type": "code",
   "execution_count": null,
   "metadata": {},
   "outputs": [],
   "source": [
    "# Capomulin\n",
    "# Calculate the IQR and quantitatively determine if there are any potential outliers. \n",
    "quartiles = capomulin.quantile([.25,.5,.75])\n",
    "lowerq = quartiles[0.25]\n",
    "upperq = quartiles[0.75]\n",
    "iqr = upperq-lowerq\n",
    "\n",
    "lower_bound = lowerq - (1.5*iqr)\n",
    "upper_bound = upperq + (1.5*iqr)\n",
    "\n",
    "print(f\"Values below {lower_bound} mm3 could be outliers.\")\n",
    "print(f\"Values above {upper_bound} mm3 could be outliers.\")\n",
    "\n",
    "# Determine outliers using upper and lower bounds\n",
    "outliers = capomulin.loc[(capomulin < lower_bound) | (capomulin > upper_bound)]\n",
    "\n",
    "# Use a conditional statement to print number of outliers\n",
    "num_of_cells = len(outliers)\n",
    "if num_of_cells > 0:\n",
    "    print(f'There are {num_of_cells} outliers.')\n",
    "else:\n",
    "    print(f'There are no outliers.')"
   ]
  },
  {
   "cell_type": "code",
   "execution_count": null,
   "metadata": {},
   "outputs": [],
   "source": [
    "# Ramicane\n",
    "# Calculate the IQR and quantitatively determine if there are any potential outliers. \n",
    "quartiles = ramicane.quantile([.25,.5,.75])\n",
    "lowerq = quartiles[0.25]\n",
    "upperq = quartiles[0.75]\n",
    "iqr = upperq-lowerq\n",
    "\n",
    "lower_bound = lowerq - (1.5*iqr)\n",
    "upper_bound = upperq + (1.5*iqr)\n",
    "\n",
    "print(f\"Values below {lower_bound} mm3 could be outliers.\")\n",
    "print(f\"Values above {upper_bound} mm3 could be outliers.\")\n",
    "\n",
    "# Determine outliers using upper and lower bounds\n",
    "outliers = ramicane.loc[(ramicane < lower_bound) | (ramicane > upper_bound)]\n",
    "\n",
    "# Use a conditional statement to print number of outliers\n",
    "num_of_cells = len(outliers)\n",
    "if num_of_cells > 0:\n",
    "    print(f'There are {num_of_cells} outliers.')\n",
    "else:\n",
    "    print(f'There are no outliers.')"
   ]
  },
  {
   "cell_type": "code",
   "execution_count": null,
   "metadata": {},
   "outputs": [],
   "source": [
    "# Infubinol\n",
    "# Calculate the IQR and quantitatively determine if there are any potential outliers. \n",
    "quartiles = infubinol.quantile([.25,.5,.75])\n",
    "lowerq = quartiles[0.25]\n",
    "upperq = quartiles[0.75]\n",
    "iqr = upperq-lowerq\n",
    "\n",
    "lower_bound = lowerq - (1.5*iqr)\n",
    "upper_bound = upperq + (1.5*iqr)\n",
    "\n",
    "print(f\"Values below {lower_bound} mm3 could be outliers.\")\n",
    "print(f\"Values above {upper_bound} mm3 could be outliers.\")\n",
    "\n",
    "# Determine outliers using upper and lower bounds\n",
    "outliers = infubinol.loc[(infubinol < lower_bound) | (infubinol > upper_bound)]\n",
    "\n",
    "# Use a conditional statement to print number of outliers\n",
    "num_of_cells = len(outliers)\n",
    "if num_of_cells > 0:\n",
    "    print(f'There are {num_of_cells} outliers.')\n",
    "else:\n",
    "    print(f'There are no outliers.')"
   ]
  },
  {
   "cell_type": "code",
   "execution_count": null,
   "metadata": {},
   "outputs": [],
   "source": [
    "# Ceftamin\n",
    "# Calculate the IQR and quantitatively determine if there are any potential outliers. \n",
    "quartiles = ceftamin.quantile([.25,.5,.75])\n",
    "lowerq = quartiles[0.25]\n",
    "upperq = quartiles[0.75]\n",
    "iqr = upperq-lowerq\n",
    "\n",
    "lower_bound = lowerq - (1.5*iqr)\n",
    "upper_bound = upperq + (1.5*iqr)\n",
    "\n",
    "print(f\"Values below {lower_bound} mm3 could be outliers.\")\n",
    "print(f\"Values above {upper_bound} mm3 could be outliers.\")\n",
    "\n",
    "# Determine outliers using upper and lower bounds\n",
    "outliers = ceftamin.loc[(ceftamin < lower_bound) | (ceftamin > upper_bound)]\n",
    "outliers\n",
    "\n",
    "# Use a conditional statement to print number of outliers\n",
    "num_of_cells = len(outliers)\n",
    "if num_of_cells > 0:\n",
    "    print(f'There are {num_of_cells} outliers.')\n",
    "else:\n",
    "    print(f'There are no outliers.')"
   ]
  },
  {
   "cell_type": "code",
   "execution_count": null,
   "metadata": {},
   "outputs": [],
   "source": [
    "# Generate a box plot of the final tumor volume of each mouse across four regimens of interest\n",
    "final_volume = [capomulin, ramicane, infubinol, ceftamin]\n",
    "fig1, ax1 = plt.subplots()\n",
    "ax1.set_title(\"Final Tumour Volumes at Max Timepoints\")\n",
    "ax1.set_xticklabels([\"Capomulin\", \"Ramicane\", \"Infubinol\", \"Ceftamin\"])\n",
    "ax1.set_xlabel(\"Interest Drug Regimens\")\n",
    "ax1.set_ylabel(\"Tumour Volumes (mm3)\")\n",
    "ax1.boxplot(final_volume)\n",
    "plt.show()"
   ]
  },
  {
   "cell_type": "markdown",
   "metadata": {},
   "source": [
    "## Line and Scatter Plots"
   ]
  },
  {
   "cell_type": "code",
   "execution_count": null,
   "metadata": {},
   "outputs": [],
   "source": [
    "# Generate a line plot of time point versus tumor volume for a mouse treated with Capomulin\n",
    "# Set index to Drug Regimen for easy referencing of rows\n",
    "capomulin_mice = combined_data.set_index([\"Drug Regimen\"])\n",
    "\n",
    "# Filter rows to only include mice treated with capomulin\n",
    "capomulin_mice = capomulin_mice.loc[\"Capomulin\"]\n",
    "\n",
    "# Retrieve columns of interest\n",
    "capomulin_mice_line = capomulin_mice[[\"Mouse ID\", \"Timepoint\", \"Tumor Volume (mm3)\"]]\n",
    "\n",
    "# Retrieve one of the mice tested with Capomulin by their Mouse ID\n",
    "capomulin_mice_line = capomulin_mice_line.loc[capomulin_mice[\"Mouse ID\"] == \"s185\"]\n",
    "\n",
    "timepoint = capomulin_mice_line[\"Timepoint\"]\n",
    "tumour_volume = capomulin_mice_line[\"Tumor Volume (mm3)\"]\n",
    "\n",
    "# Plot the line chart\n",
    "line_chart, = plt.plot(timepoint, tumour_volume, color=\"blue\", marker=\"o\",label=\"s185\")\n",
    "plt.title(\"Mouse's tumour volume over time (treated with Capomulin)\")\n",
    "plt.xlabel(\"Timepoint\")\n",
    "plt.ylabel(\"Tumour Volume(mm3)\")\n",
    "plt.legend(handles=[line_chart], loc=\"best\")\n",
    "\n",
    "# Show the chart\n",
    "plt.show()"
   ]
  },
  {
   "cell_type": "code",
   "execution_count": null,
   "metadata": {},
   "outputs": [],
   "source": [
    "# Generate a scatter plot of mouse weight versus average tumor volume for the Capomulin regimen\n",
    "# Groupby data by Mouse ID\n",
    "capomulin_mice_grouped = capomulin_mice.groupby([\"Mouse ID\"])\n",
    "\n",
    "# Find average weight and tumour volume\n",
    "capomulin_mice_grouped = capomulin_mice_grouped[[\"Weight (g)\", \"Tumor Volume (mm3)\"]].mean()\n",
    "\n",
    "# Rename columns\n",
    "capomulin_mice_grouped = capomulin_mice_grouped.rename(columns={\"Weight (g)\" : \"Average Weight (g)\",\n",
    "                                                                \"Tumor Volume (mm3)\": \"Average Tumor Volume (mm3)\"})\n",
    "\n",
    "# Create a scatter plot\n",
    "capomulin_mice_grouped.plot(kind=\"scatter\", x=\"Average Weight (g)\", y=\"Average Tumor Volume (mm3)\", grid=True,\n",
    "                            title=\"Average Mouse Weight vs Average Tumour Volume\")\n",
    "\n",
    "# Show the chart\n",
    "plt.show()"
   ]
  },
  {
   "cell_type": "markdown",
   "metadata": {},
   "source": [
    "## Correlation and Regression"
   ]
  },
  {
   "cell_type": "code",
   "execution_count": null,
   "metadata": {},
   "outputs": [],
   "source": [
    "# Calculate the correlation coefficient and linear regression model \n",
    "# for mouse weight and average tumor volume for the Capomulin regimen\n",
    "# Finding the correlation coefficient\n",
    "mouse_weight = capomulin_mice_grouped[\"Average Weight (g)\"]\n",
    "average_tumour_volume = capomulin_mice_grouped[\"Average Tumor Volume (mm3)\"]\n",
    "correlation = round(st.pearsonr(mouse_weight,average_tumour_volume)[0],2)\n",
    "print(f'The correlation coefficient between mouse weight and average tumour volume for the Capomulin regimen is {correlation}.')\n",
    "\n",
    "# Add the linear regression equation and line to plot\n",
    "(slope, intercept, rvalue, pvalue, stderr) = linregress(mouse_weight, average_tumour_volume)\n",
    "regress_values = mouse_weight * slope + intercept\n",
    "line_eq = \"y = \" + str(round(slope,2)) + \"x + \" + str(round(intercept,2))\n",
    "plt.scatter(mouse_weight,average_tumour_volume)\n",
    "plt.plot(mouse_weight,regress_values,\"r-\")\n",
    "plt.annotate(line_eq,(20,38),fontsize=15,color=\"red\")\n",
    "plt.xlabel(\"Average Weight (g)\")\n",
    "plt.ylabel(\"Average Tumor Volume (mm3)\")\n",
    "print(f\"The r-squared is: {rvalue**2}\")\n",
    "plt.show()"
   ]
  },
  {
   "cell_type": "code",
   "execution_count": null,
   "metadata": {},
   "outputs": [],
   "source": []
  }
 ],
 "metadata": {
  "anaconda-cloud": {},
  "kernelspec": {
   "display_name": "Python 3",
   "language": "python",
   "name": "python3"
  },
  "language_info": {
   "codemirror_mode": {
    "name": "ipython",
    "version": 3
   },
   "file_extension": ".py",
   "mimetype": "text/x-python",
   "name": "python",
   "nbconvert_exporter": "python",
   "pygments_lexer": "ipython3",
   "version": "3.6.10"
  }
 },
 "nbformat": 4,
 "nbformat_minor": 4
}
